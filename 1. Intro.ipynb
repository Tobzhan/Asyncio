{
 "cells": [
  {
   "cell_type": "markdown",
   "metadata": {},
   "source": [
    "# Asyncio - introduction\n",
    "___\n",
    "* Sequential running - The next line of code runs as soon as the previous one has finished, and only one thing is happening at once.\n",
    "* Asynchronic running - method that helps to optimize tasks to increase perfomance, speed by separating these tasks and completing in special way. \n",
    "___\n",
    "\n",
    "## Main concepts:\n",
    "* Concurrency(конкурентность) - tasks are happening at the same time on timeline but only one task is active at the moment. We can jump(context switch) between tasks.\n",
    "* Parallelism(параллелизм) -  tasks are happening __only__ at the same time, like several active concepts at the moment.\n",
    "    * Main difference: We can work concurrenlty with only 1 core, like changing between tasks.\n",
    "We need at least 2 cores to be able to use parallelism. Parallelism implies concurrency but it does not always work vice-versa.\n",
    "* Preemptive multitasking - jumping between tasks in order to minimize duration of execution, we do not set these points but OS. \n",
    "* Cooperative multitasking - we create special points where we use methods of async coding, context switch.\n",
    "___\n",
    "\n",
    "## Main key words:\n",
    "async, await, \n",
    "single-threaded event loop\n",
    "* I/O bound - tasks that depends on speed of handling data(waiting responce).\n",
    "* CPU bound - tasks that directly depends on CPU(calculate pi).\n",
    "___\n"
   ]
  },
  {
   "cell_type": "markdown",
   "metadata": {},
   "source": [
    "#  Understanding processes, threads, multithreading, and multiprocessing\n",
    "* A process is an application run that has a memory space that other applications cannot\n",
    "access\n",
    "* Thread - the smallest construct that can be managed by an operating system.\n",
    "___\n",
    "A process will always have at least one thread associated with it, usually known as the main thread. A process\n",
    "can also create other threads, which are more commonly known as worker or background threads."
   ]
  },
  {
   "cell_type": "code",
   "execution_count": 3,
   "metadata": {},
   "outputs": [
    {
     "name": "stdout",
     "output_type": "stream",
     "text": [
      "Python process running with process id: 6364\n",
      "Python is currently running 6 thread(s)\n",
      "The current thread is MainThread\n"
     ]
    }
   ],
   "source": [
    "# Example\n",
    "import threading\n",
    "import os\n",
    "\n",
    "print(f'Python process running with process id: {os.getpid()}')\n",
    "\n",
    "total_threads = threading.active_count()\n",
    "thread_name = threading.current_thread().name\n",
    "\n",
    "print(f'Python is currently running {total_threads} thread(s)')\n",
    "print(f'The current thread is {thread_name}')"
   ]
  },
  {
   "cell_type": "markdown",
   "metadata": {},
   "source": [
    "* Multithreading - multiple threads are working concurrently.\n",
    "* Multiprocessing - multiple processes are working concurrently."
   ]
  },
  {
   "cell_type": "code",
   "execution_count": 4,
   "metadata": {},
   "outputs": [
    {
     "name": "stdout",
     "output_type": "stream",
     "text": [
      "Hello from thread <Thread(Thread-5 (hello_from_thread), started 2792)>!Python is currently running 7 thread(s)\n",
      "The current thread is MainThread\n",
      "\n"
     ]
    }
   ],
   "source": [
    "def hello_from_thread():\n",
    "    print(f'Hello from thread {threading.current_thread()}!')\n",
    "\n",
    "hello_thread = threading.Thread(target=hello_from_thread)\n",
    "hello_thread.start()\n",
    "\n",
    "total_threads = threading.active_count()\n",
    "thread_name = threading.current_thread().name\n",
    "\n",
    "print(f'Python is currently running {total_threads} thread(s)')\n",
    "print(f'The current thread is {thread_name}')\n",
    "\n",
    "# .join - \n",
    "hello_thread.join()"
   ]
  },
  {
   "cell_type": "markdown",
   "metadata": {},
   "source": [
    "Multithreading is only useful for I/O-bound work because\n",
    "we are limited by the __global interpreter lock__(GIL) in python.\n",
    "___\n",
    "GIL prevents one Python process from\n",
    "executing more than one Python bytecode instruction at any given time. It is only works for threads but not on processes.\n",
    "The conflict with threads arises in that the implementation in CPython is not __thread\n",
    "safe__. The threads are in __race condition__, it can lead to unpredictable behaviour."
   ]
  },
  {
   "cell_type": "code",
   "execution_count": 5,
   "metadata": {},
   "outputs": [
    {
     "name": "stdout",
     "output_type": "stream",
     "text": [
      "Hello from parent process 6364\n"
     ]
    }
   ],
   "source": [
    "import multiprocessing\n",
    "\n",
    "def hello_from_process():\n",
    "    print(f'Hello from child process {os.getpid()}!')\n",
    "\n",
    "if __name__ == '__main__':\n",
    "    hello_process = multiprocessing.Process(target=hello_from_process)\n",
    "    hello_process.start()\n",
    "    print(f'Hello from parent process {os.getpid()}')\n",
    "    hello_process.join()\n"
   ]
  },
  {
   "cell_type": "markdown",
   "metadata": {},
   "source": [
    "Working with processes is heavier than working with threads."
   ]
  },
  {
   "cell_type": "markdown",
   "metadata": {},
   "source": [
    "The global interpreter lock is released when __I/O operations__ happen. Example below:"
   ]
  },
  {
   "cell_type": "code",
   "execution_count": 6,
   "metadata": {},
   "outputs": [
    {
     "name": "stdout",
     "output_type": "stream",
     "text": [
      "200\n",
      "200\n",
      "Running synchronously took 1.6578 seconds.\n"
     ]
    }
   ],
   "source": [
    "import time\n",
    "import requests\n",
    "def read_example() -> None:\n",
    "    response = requests.get('https://www.example.com')\n",
    "    print(response.status_code)\n",
    "sync_start = time.time()\n",
    "read_example()\n",
    "read_example()\n",
    "sync_end = time.time()\n",
    "print(f'Running synchronously took {sync_end - sync_start:.4f} seconds.')\n"
   ]
  },
  {
   "cell_type": "markdown",
   "metadata": {},
   "source": [
    "We can see the proof of it below:"
   ]
  },
  {
   "cell_type": "code",
   "execution_count": 7,
   "metadata": {},
   "outputs": [
    {
     "name": "stdout",
     "output_type": "stream",
     "text": [
      "All threads running!\n",
      "200\n",
      "200\n",
      "Running with threads took 0.7985 seconds.\n"
     ]
    }
   ],
   "source": [
    "thread_1 = threading.Thread(target=read_example)\n",
    "thread_2 = threading.Thread(target=read_example)\n",
    "\n",
    "thread_start = time.time()\n",
    "\n",
    "thread_1.start()\n",
    "thread_2.start()\n",
    "print('All threads running!')\n",
    "\n",
    "thread_1.join()\n",
    "thread_2.join()\n",
    "thread_end = time.time()\n",
    "print(f'Running with threads took {thread_end - thread_start:.4f} seconds.')"
   ]
  },
  {
   "cell_type": "markdown",
   "metadata": {},
   "source": [
    "### Single-threaded concurrency\n",
    "* A __socket__ is a low-level abstraction for sending and receiving data over a network. Sockets support two main\n",
    "operations: sending bytes and receiving bytes. We write bytes to a socket, which will\n",
    "then get sent to a remote address, typically some type of server. Sockets are blocking by default. Simply put, this means that when we are waiting for a\n",
    "server to reply with data, we halt our application or block it until we get data to read."
   ]
  },
  {
   "cell_type": "markdown",
   "metadata": {},
   "source": [
    "* An __event loop__ is at the heart of every asyncio application. Event loops are a fairly common design pattern in many systems and have existed for quite some time. \n",
    "In asyncio, the event loop keeps a queue of tasks instead of messages. Tasks are wrappers around a coroutine. A coroutine can pause execution when it hits an I/O-bound\n",
    "operation and will let the event loop run other tasks that are not waiting for I/O operations to complete."
   ]
  },
  {
   "cell_type": "markdown",
   "metadata": {},
   "source": [
    "___\n",
    "* Coroutine - function that wa are able to pause when it encounters an operation that could take a while to\n",
    "complete.\n",
    "* The async keyword will let us define a coroutine; the await keyword will let us pause our coroutine when we have a long-running operation.\n"
   ]
  },
  {
   "cell_type": "code",
   "execution_count": 8,
   "metadata": {},
   "outputs": [
    {
     "data": {
      "text/plain": [
       "<coroutine object my_coroutine at 0x000001BD4AF3B100>"
      ]
     },
     "execution_count": 8,
     "metadata": {},
     "output_type": "execute_result"
    }
   ],
   "source": [
    "import asyncio\n",
    "# We can create coroutine using async before def\n",
    "async def my_coroutine():\n",
    "    print(\"Hello world!\")\n",
    "    \n",
    "\n",
    "# This function will not work as normal function, it will return it as object and not execute it. We need event loop to execute it.\n",
    "my_coroutine()"
   ]
  },
  {
   "cell_type": "code",
   "execution_count": 9,
   "metadata": {},
   "outputs": [
    {
     "name": "stdout",
     "output_type": "stream",
     "text": [
      "2 3\n"
     ]
    }
   ],
   "source": [
    "async def add_one_coroutine(n):\n",
    "    return n + 1\n",
    "\n",
    "def add_one(n):\n",
    "    return n + 1\n",
    "\n",
    "# print(\"Simple function: {}\".format(type(add_one(1))))\n",
    "# print(\"Courotine :{}\".format(type(add_one_coroutine(1))))\n",
    "\n",
    "async def main():\n",
    "    one = await add_one_coroutine(1)\n",
    "    two = await add_one_coroutine(2)\n",
    "    print(one, two)\n",
    "\n",
    "# In jupiter I have already running event loop so I can just await main() but usually we need to add coroutine to event loop by this commend below \n",
    "\"asyncio.run(main())\"\n",
    "    \n",
    "await main()"
   ]
  },
  {
   "cell_type": "markdown",
   "metadata": {},
   "source": [
    "asyncio.sleep(n) - stop coroutine for a given time(in seconds)"
   ]
  },
  {
   "cell_type": "code",
   "execution_count": 10,
   "metadata": {},
   "outputs": [
    {
     "name": "stdout",
     "output_type": "stream",
     "text": [
      "Hello world\n"
     ]
    }
   ],
   "source": [
    "async def hello_world():\n",
    "    await asyncio.sleep(1) # forced delay\n",
    "    return \"Hello world\"\n",
    "\n",
    "async def main():\n",
    "    message = await hello_world()\n",
    "    print(message)\n",
    "\n",
    "# We have 1 second to do other python code\n",
    "await main()"
   ]
  },
  {
   "cell_type": "code",
   "execution_count": 11,
   "metadata": {},
   "outputs": [
    {
     "name": "stdout",
     "output_type": "stream",
     "text": [
      "Sleep for 1 s\n",
      "Woke up after 1 s\n",
      "2\n",
      "Hello World!\n"
     ]
    }
   ],
   "source": [
    "# Template, I created it also in util/delay_functions.py\n",
    "async def delay(delay_seconds):\n",
    "    print(f\"Sleep for {delay_seconds} s\")\n",
    "    await asyncio.sleep(delay_seconds)\n",
    "    print(f\"Woke up after {delay_seconds} s\")\n",
    "    return delay_seconds\n",
    "\n",
    "# This code below is not working as expected/concurrently, we need to fix it\n",
    "async def add_one(number: int) -> int:\n",
    "    return number + 1\n",
    "\n",
    "async def hello_world_message() -> str:\n",
    "    await delay(1)\n",
    "    return \"Hello World!\"\n",
    "\n",
    "async def main() -> None:\n",
    "    message = await hello_world_message()\n",
    "    one_plus_one = await add_one(1)\n",
    "    print(one_plus_one)\n",
    "    print(message)\n",
    "\n",
    "await main()"
   ]
  },
  {
   "cell_type": "markdown",
   "metadata": {},
   "source": [
    "Tasks are wrappers around a coroutine that schedule a coroutine to run on the\n",
    "event loop as soon as possible."
   ]
  },
  {
   "cell_type": "code",
   "execution_count": 13,
   "metadata": {},
   "outputs": [
    {
     "name": "stdout",
     "output_type": "stream",
     "text": [
      "<class '_asyncio.Task'>\n",
      "Sleep for 3 s\n",
      "Woke up after 3 s\n",
      "3\n"
     ]
    }
   ],
   "source": [
    "# creating task\n",
    "\"asyncio.create_task\"\n",
    "\n",
    "async def main():\n",
    "    sleep_for_three = asyncio.create_task(delay(3))\n",
    "    print(type(sleep_for_three))\n",
    "    result = await sleep_for_three\n",
    "    print(result)\n",
    "\n",
    "await main()"
   ]
  },
  {
   "cell_type": "code",
   "execution_count": 20,
   "metadata": {},
   "outputs": [
    {
     "name": "stdout",
     "output_type": "stream",
     "text": [
      "Without tasks:\n",
      "Sleep for 3 s\n",
      "Woke up after 3 s\n",
      "Sleep for 2 s\n",
      "Woke up after 2 s\n",
      "Sleep for 1 s\n",
      "Woke up after 1 s\n",
      "\n",
      "\n",
      "With tasks:\n",
      "Sleep for 3 s\n",
      "Sleep for 2 s\n",
      "Sleep for 1 s\n",
      "Woke up after 1 s\n",
      "Woke up after 2 s\n",
      "Woke up after 3 s\n"
     ]
    }
   ],
   "source": [
    "async def main_without_task():\n",
    "    sleep_for_three = delay(3)\n",
    "    sleep_for_two = delay(2)\n",
    "    sleep_for_one = delay(1)\n",
    "    \n",
    "    await sleep_for_three\n",
    "    await sleep_for_two\n",
    "    await sleep_for_one\n",
    "\n",
    "async def main_with_task():\n",
    "    sleep_for_three = asyncio.create_task(delay(3))\n",
    "    sleep_for_two = asyncio.create_task(delay(2))\n",
    "    sleep_for_one = asyncio.create_task(delay(1))\n",
    "    \n",
    "    await sleep_for_three\n",
    "    await sleep_for_two\n",
    "    await sleep_for_one\n",
    "\n",
    "# This code works like we are executing simple code in python without concurrency\n",
    "print(\"Without tasks:\")\n",
    "await main_without_task()\n",
    "\n",
    "print('\\n')\n",
    "\n",
    "# This code below works concurrently because now we wrapped our functions with tasks that force them to execute as soon as possible\n",
    "print(\"With tasks:\")\n",
    "await main_with_task()"
   ]
  },
  {
   "cell_type": "code",
   "execution_count": 24,
   "metadata": {},
   "outputs": [
    {
     "name": "stdout",
     "output_type": "stream",
     "text": [
      "Sleep for 3 s\n",
      "Sleep for 3 s\n",
      "I'm running other code while I'm waiting!\n",
      "I'm running other code while I'm waiting!\n",
      "Woke up after 3 s\n",
      "Woke up after 3 s\n"
     ]
    }
   ],
   "source": [
    "async def hello_every_second():\n",
    "    # We can execute this function while waiting when other coroutines finished\n",
    "    for i in range(2):\n",
    "        await asyncio.sleep(1)\n",
    "        print(\"I'm running other code while I'm waiting!\")\n",
    "\n",
    "async def main():\n",
    "    sleep_for_three = asyncio.create_task(delay(3))\n",
    "    sleep_for_three1 = asyncio.create_task(delay(3))\n",
    "\n",
    "    await hello_every_second()\n",
    "    await sleep_for_three\n",
    "    await sleep_for_three1\n",
    "\n",
    "await main()"
   ]
  },
  {
   "cell_type": "markdown",
   "metadata": {},
   "source": [
    "If we have tasks coroutines that takes too long time, we can remove them.\n",
    "____\n",
    "Canceling a task is straightforward. Each task object has a method named __cancel__,\n",
    "which we can call whenever we’d like to stop a task. Canceling a task will cause that\n",
    "task to raise a __CancelledError__ when we await it, which we can then handle as\n",
    "needed."
   ]
  },
  {
   "cell_type": "code",
   "execution_count": 28,
   "metadata": {},
   "outputs": [
    {
     "name": "stdout",
     "output_type": "stream",
     "text": [
      "Task not finished, checking again in a second.\n",
      "Sleep for 10 s\n",
      "Task not finished, checking again in a second.\n",
      "Task not finished, checking again in a second.\n",
      "Task not finished, checking again in a second.\n",
      "Task not finished, checking again in a second.\n",
      "Task not finished, checking again in a second.\n",
      "Your task is cancelled\n"
     ]
    }
   ],
   "source": [
    "from asyncio import CancelledError\n",
    "\n",
    "async def main():\n",
    "    long_task = asyncio.create_task(delay(10))\n",
    "\n",
    "    seconde_elapsed = 0\n",
    "\n",
    "    while not long_task.done():\n",
    "        print(\"Task not finished, checking again in a second.\")\n",
    "        await asyncio.sleep(1)\n",
    "        seconde_elapsed += 1\n",
    "        if seconde_elapsed == 5:\n",
    "            long_task.cancel()\n",
    "    \n",
    "\n",
    "    try:\n",
    "        await long_task\n",
    "    except CancelledError:\n",
    "        print(\"Your task is cancelled\")\n",
    "\n",
    "await main()"
   ]
  },
  {
   "cell_type": "markdown",
   "metadata": {},
   "source": [
    "We can timeout in python using __asyncio.wait_for__"
   ]
  },
  {
   "cell_type": "code",
   "execution_count": 29,
   "metadata": {},
   "outputs": [
    {
     "name": "stdout",
     "output_type": "stream",
     "text": [
      "Sleep for 2 s\n",
      "Time-out\n",
      "Coroutine was cancelled? True\n"
     ]
    }
   ],
   "source": [
    "async def main():\n",
    "    task = asyncio.create_task(delay(2))\n",
    "\n",
    "    try:\n",
    "        result = await asyncio.wait_for(task, timeout=1)\n",
    "        print(result)\n",
    "    except asyncio.exceptions.TimeoutError:\n",
    "        print(\"Time-out\")\n",
    "        print(f\"Coroutine was cancelled? {task.cancelled()}\")\n",
    "\n",
    "await main()"
   ]
  },
  {
   "cell_type": "markdown",
   "metadata": {},
   "source": [
    " __asyncio.shield__ function. This function\n",
    "will prevent cancellation of the coroutine we pass in, giving it a “shield,” which cancellation requests then ignore."
   ]
  },
  {
   "cell_type": "code",
   "execution_count": 30,
   "metadata": {},
   "outputs": [
    {
     "name": "stdout",
     "output_type": "stream",
     "text": [
      "Sleep for 10 s\n",
      "Task took longer than five seconds, it will finish soon!\n",
      "Woke up after 10 s\n",
      "10\n"
     ]
    }
   ],
   "source": [
    "async def main():\n",
    "    task = asyncio.create_task(delay(10))\n",
    "\n",
    "    try:\n",
    "        res = await asyncio.wait_for(asyncio.shield(task), 5)\n",
    "        print(res)\n",
    "    except TimeoutError:\n",
    "        print(\"Task took longer than five seconds, it will finish soon!\")\n",
    "        res = await task\n",
    "        print(res)\n",
    "\n",
    "await main()  "
   ]
  },
  {
   "cell_type": "markdown",
   "metadata": {},
   "source": [
    "* A future is a Python object that contains a single value that you expect to get at some\n",
    "point in the future but may not yet have.\n"
   ]
  },
  {
   "cell_type": "code",
   "execution_count": 33,
   "metadata": {},
   "outputs": [
    {
     "name": "stdout",
     "output_type": "stream",
     "text": [
      "Is my_future done? False\n",
      "Is my_future done? True\n",
      "What is the result of my_future? 42\n"
     ]
    }
   ],
   "source": [
    "my_future = asyncio.Future()\n",
    "\n",
    "print(f\"Is my_future done? {my_future.done()}\")\n",
    "\n",
    "my_future.set_result(42)\n",
    "print(f'Is my_future done? {my_future.done()}')\n",
    "print(f'What is the result of my_future? {my_future.result()}')"
   ]
  },
  {
   "cell_type": "code",
   "execution_count": 34,
   "metadata": {},
   "outputs": [
    {
     "name": "stdout",
     "output_type": "stream",
     "text": [
      "Is request done? False\n",
      "Is request done? True\n",
      "42\n"
     ]
    }
   ],
   "source": [
    "def make_request():\n",
    "    future = asyncio.Future()\n",
    "    asyncio.create_task(set_future_value(future))\n",
    "    return future\n",
    "\n",
    "async def set_future_value(future):\n",
    "    await asyncio.sleep(1)\n",
    "    future.set_result(42)\n",
    "\n",
    "async def main():\n",
    "    future = make_request()\n",
    "    print(f\"Is request done? {future.done()}\")\n",
    "    value = await future\n",
    "    print(f\"Is request done? {future.done()}\")\n",
    "    print(value)\n",
    "\n",
    "await main()"
   ]
  },
  {
   "cell_type": "markdown",
   "metadata": {},
   "source": [
    "Let`s make our own decorator __async_timed__ for detecting execution time of out coroutines, tasks"
   ]
  },
  {
   "cell_type": "code",
   "execution_count": 37,
   "metadata": {},
   "outputs": [
    {
     "name": "stdout",
     "output_type": "stream",
     "text": [
      "starting <function main at 0x000001BD4AF43920> with args () {}'\n",
      "Sleep for 3 s\n",
      "Sleep for 2 s\n",
      "Woke up after 2 s\n",
      "Woke up after 3 s\n",
      "finished <function main at 0x000001BD4AF43920> in 3.0030 second(s)\n"
     ]
    }
   ],
   "source": [
    "import functools\n",
    "from typing import Callable, Any\n",
    "\n",
    "def async_timed():\n",
    "    def wrapper(func: Callable):\n",
    "        @functools.wraps(func)\n",
    "        async def wrapped(*args, **kwargs):\n",
    "            print(f\"starting {func} with args {args} {kwargs}'\")\n",
    "            start = time.time()\n",
    "            try:\n",
    "                return await func(*args, **kwargs)\n",
    "            finally:\n",
    "                end = time.time()\n",
    "                total = end - start\n",
    "                print(f\"finished {func} in {total:.4f} second(s)\")\n",
    "        return wrapped\n",
    "\n",
    "    return wrapper\n",
    "\n",
    "# Example of usage\n",
    "\n",
    "@async_timed()\n",
    "async def main():\n",
    "    task1 = asyncio.create_task(delay(3))\n",
    "    task2 = asyncio.create_task(delay(2))\n",
    "\n",
    "    await task1\n",
    "    await task2\n",
    "\n",
    "await main()"
   ]
  },
  {
   "cell_type": "markdown",
   "metadata": {},
   "source": [
    "We need to be carefull because sometime using cocurrent methods can reduce speed of execution instead of increasing\n",
    "___\n",
    "* Trying to add concurrency to CPU bound tasks without multiprocessing is huge error.\n",
    "* Using blocking I/O-bound APIs without using multithreading is huge error.\n",
    "___\n",
    "Because of GIL we can only solve CPU bound tasks only single-thread-concurrently."
   ]
  },
  {
   "cell_type": "code",
   "execution_count": 38,
   "metadata": {},
   "outputs": [
    {
     "name": "stdout",
     "output_type": "stream",
     "text": [
      "starting <function main at 0x000001BD4AF42840> with args () {}'\n",
      "starting <function cpu_bound_work at 0x000001BD4AF42B60> with args () {}'\n",
      "finished <function cpu_bound_work at 0x000001BD4AF42B60> in 0.5286 second(s)\n",
      "starting <function cpu_bound_work at 0x000001BD4AF42B60> with args () {}'\n",
      "finished <function cpu_bound_work at 0x000001BD4AF42B60> in 0.5495 second(s)\n",
      "Sleep for 4 s\n",
      "Woke up after 4 s\n",
      "finished <function main at 0x000001BD4AF42840> in 5.0936 second(s)\n"
     ]
    }
   ],
   "source": [
    "# It is bad example, we should not use concurrency everywhere, especially when we have CPU bound and I/O bound together\n",
    "\n",
    "@async_timed()\n",
    "async def cpu_bound_work():\n",
    "    counter = 0\n",
    "    for i in range(10000000):\n",
    "        counter = counter + 1\n",
    "    return counter\n",
    "\n",
    "@async_timed()\n",
    "async def main():\n",
    "    task1 = asyncio.create_task(cpu_bound_work())\n",
    "    task2 = asyncio.create_task(cpu_bound_work())\n",
    "    task3 = asyncio.create_task(delay(4))\n",
    "\n",
    "    await task1\n",
    "    await task2\n",
    "    await task3\n",
    "\n",
    "# We can see that this code is not executing concurrently because we added concurrency to every task\n",
    "await main()"
   ]
  },
  {
   "cell_type": "markdown",
   "metadata": {},
   "source": [
    "Any function that performs I/O that is not a coroutine or performs time-consuming CPU\n",
    "operations can be considered blocking. "
   ]
  },
  {
   "cell_type": "code",
   "execution_count": 40,
   "metadata": {},
   "outputs": [
    {
     "name": "stdout",
     "output_type": "stream",
     "text": [
      "starting <function main at 0x000001BD4B640220> with args () {}'\n",
      "starting <function get_example_status at 0x000001BD4B642A20> with args () {}'\n",
      "finished <function get_example_status at 0x000001BD4B642A20> in 0.3839 second(s)\n",
      "starting <function get_example_status at 0x000001BD4B642A20> with args () {}'\n",
      "finished <function get_example_status at 0x000001BD4B642A20> in 0.3735 second(s)\n",
      "starting <function get_example_status at 0x000001BD4B642A20> with args () {}'\n",
      "finished <function get_example_status at 0x000001BD4B642A20> in 0.3759 second(s)\n",
      "finished <function main at 0x000001BD4B640220> in 1.1333 second(s)\n"
     ]
    }
   ],
   "source": [
    "@async_timed()\n",
    "async def get_example_status():\n",
    "    # Code is not working concurrently because request.get is blocking I/O bound task\n",
    "    return requests.get('http://www.example.com').status_code\n",
    "\n",
    "@async_timed()\n",
    "async def main():\n",
    "    task1 = asyncio.create_task(get_example_status())\n",
    "    task2 = asyncio.create_task(get_example_status())\n",
    "    task3 = asyncio.create_task(get_example_status())\n",
    "\n",
    "    await task1\n",
    "    await task2\n",
    "    await task3\n",
    "\n",
    "# We can solve this problem by using 'aoihttp' or force asyncio to use multithreading\n",
    "await main()"
   ]
  },
  {
   "cell_type": "markdown",
   "metadata": {},
   "source": [
    "### Accessing and manually managing the event loop\n",
    "It can be very useful if we want special behaviour for our event loop or if we want to debug."
   ]
  },
  {
   "cell_type": "code",
   "execution_count": 52,
   "metadata": {},
   "outputs": [
    {
     "name": "stdout",
     "output_type": "stream",
     "text": [
      "type = <class 'asyncio.windows_events._WindowsSelectorEventLoop'>, <_WindowsSelectorEventLoop running=True closed=False debug=False>\n",
      "starting <function main at 0x000001BD4C1ADF80> with args () {}'\n",
      "finished <function main at 0x000001BD4C1ADF80> in 1.0077 second(s)\n"
     ]
    }
   ],
   "source": [
    "@async_timed()\n",
    "async def main():\n",
    "    await asyncio.sleep(1)\n",
    "\n",
    "loop = asyncio.new_event_loop()\n",
    "\n",
    "# We need to close event loop even if we get exception\n",
    "# Usually we do not have running event loop but in jypiter I have already running event loop so I can not do below code\n",
    "\"\"\"\n",
    "try:\n",
    "    loop.run_until_complete(main())\n",
    "finally:    \n",
    "    loop.close()\n",
    "\"\"\"\n",
    "\n",
    "current_loop = asyncio.get_running_loop()\n",
    "print(f\"type = {type(current_loop)}, {current_loop}\")\n",
    "await main()"
   ]
  },
  {
   "cell_type": "code",
   "execution_count": 56,
   "metadata": {},
   "outputs": [
    {
     "name": "stdout",
     "output_type": "stream",
     "text": [
      "starting <function main at 0x000001BD4AF43BA0> with args () {}'\n",
      "Sleep for 1 s\n",
      "I'm being called in the future!\n",
      "Woke up after 1 s\n",
      "finished <function main at 0x000001BD4AF43BA0> in 1.0004 second(s)\n"
     ]
    }
   ],
   "source": [
    "def call_later():\n",
    "    print(\"I'm being called in the future!\")\n",
    "\n",
    "@async_timed()\n",
    "async def main():\n",
    "    loop = asyncio.get_running_loop()\n",
    "    loop.call_soon(call_later)\n",
    "    await delay(1)\n",
    "\n",
    "await main()"
   ]
  },
  {
   "cell_type": "code",
   "execution_count": 62,
   "metadata": {},
   "outputs": [],
   "source": [
    "from IPython.display import clear_output\n",
    "\n",
    "# Using debug mode \n",
    "\"asyncio.run(coroutine, debug=True)\"\n",
    "\n",
    "# Using debug mode if we have running loop\n",
    "current_loop = asyncio.get_running_loop()\n",
    "current_loop.set_debug(True)\n",
    "print(current_loop)\n",
    "\n",
    "# Changing threshold to detect slow tasks, coroutines\n",
    "current_loop.slow_callback_duration = .250\n",
    "\n",
    "@async_timed()\n",
    "async def cpu_bound_work():\n",
    "    counter = 0\n",
    "    for i in range(10000000):\n",
    "        counter = counter + 1\n",
    "    return counter\n",
    "\n",
    "@async_timed()\n",
    "async def main():\n",
    "    task1 = asyncio.create_task(cpu_bound_work())\n",
    "    task2 = asyncio.create_task(delay(4))\n",
    "\n",
    "    await task1\n",
    "    await task2\n",
    "\n",
    "await main()\n",
    "clear_output()"
   ]
  }
 ],
 "metadata": {
  "kernelspec": {
   "display_name": "Python 3",
   "language": "python",
   "name": "python3"
  },
  "language_info": {
   "codemirror_mode": {
    "name": "ipython",
    "version": 3
   },
   "file_extension": ".py",
   "mimetype": "text/x-python",
   "name": "python",
   "nbconvert_exporter": "python",
   "pygments_lexer": "ipython3",
   "version": "3.11.1"
  }
 },
 "nbformat": 4,
 "nbformat_minor": 2
}
