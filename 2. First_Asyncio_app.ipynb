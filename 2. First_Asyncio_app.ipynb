{
 "cells": [
  {
   "cell_type": "markdown",
   "metadata": {},
   "source": [
    "# Working with sockets"
   ]
  },
  {
   "cell_type": "code",
   "execution_count": 2,
   "metadata": {},
   "outputs": [
    {
     "name": "stdout",
     "output_type": "stream",
     "text": [
      "f'I got a connection from ('127.0.0.1', 51366)!\n"
     ]
    }
   ],
   "source": [
    "import socket\n",
    "\n",
    "# Working with blocking sockets\n",
    "\n",
    "# Creating simple socket-server with host+port with protocol TSP\n",
    "server_socket = socket.socket(socket.AF_INET, socket.SOCK_STREAM)\n",
    "\n",
    "# To be able use same port\n",
    "server_socket.setsockopt(socket.SOL_SOCKET, socket.SO_REUSEADDR, 1)\n",
    "\n",
    "# Defining host+port of server\n",
    "server_address = (\"127.0.0.1\", 8000)\n",
    "server_socket.bind(server_address)\n",
    "\n",
    "#listening incoming requests\n",
    "server_socket.listen()\n",
    "connection, client_address = server_socket.accept()\n",
    "print(f\"f'I got a connection from {client_address}!\")"
   ]
  },
  {
   "cell_type": "markdown",
   "metadata": {},
   "source": [
    "\"\\r\\n\" - end in telnet\n",
    "We cannot get all data at one moment, so we use buffer and receive data by parts."
   ]
  },
  {
   "cell_type": "code",
   "execution_count": 10,
   "metadata": {},
   "outputs": [
    {
     "name": "stdout",
     "output_type": "stream",
     "text": [
      "I got a connection from ('127.0.0.1', 51585)!\n",
      "I got data: b't'!\n",
      "I got data: b'e'!\n",
      "I got data: b's'!\n",
      "I got data: b't'!\n",
      "I got data: b'i'!\n",
      "I got data: b'n'!\n",
      "I got data: b'g'!\n",
      "I got data: b'1'!\n",
      "I got data: b'2'!\n",
      "I got data: b'3'!\n",
      "I got data: b'\\r\\n'!\n",
      "All the data is: b'testing123\\r\\n'\n"
     ]
    }
   ],
   "source": [
    "import socket\n",
    "server_socket = socket.socket(socket.AF_INET, socket.SOCK_STREAM)\n",
    "server_socket.setsockopt(socket.SOL_SOCKET, socket.SO_REUSEADDR, 1)\n",
    "\n",
    "server_address = ('127.0.0.1', 8000)\n",
    "server_socket.bind(server_address)\n",
    "server_socket.listen()\n",
    "\n",
    "try:\n",
    "    connection, client_address = server_socket.accept()\n",
    "    print(f'I got a connection from {client_address}!')\n",
    "\n",
    "    buffer = b''\n",
    "\n",
    "    # Receive data till we get end symbols\n",
    "    while buffer[-2:] != b'\\r\\n':\n",
    "        data = connection.recv(2)\n",
    "        if not data:\n",
    "            break\n",
    "        else:\n",
    "            print(f'I got data: {data}!')\n",
    "            buffer = buffer + data\n",
    "    \n",
    "    print(f\"All the data is: {buffer}\")\n",
    "    connection.sendall(buffer)\n",
    "finally:\n",
    "    server_socket.close()"
   ]
  },
  {
   "cell_type": "markdown",
   "metadata": {},
   "source": [
    "Curreny this server above is not useful because it can work only with 1 user but we can make server be able to work with multiple users."
   ]
  },
  {
   "cell_type": "code",
   "execution_count": 11,
   "metadata": {},
   "outputs": [
    {
     "name": "stdout",
     "output_type": "stream",
     "text": [
      "I got a connection from ('127.0.0.1', 51611)!\n",
      "I got data: b't'!\n",
      "I got data: b'e'!\n",
      "I got data: b's'!\n",
      "I got data: b't'!\n",
      "I got data: b'i'!\n",
      "I got data: b'n'!\n",
      "I got data: b'g'!\n",
      "I got data: b'1'!\n",
      "I got data: b'2'!\n",
      "I got data: b'3'!\n",
      "I got data: b'\\r\\n'!\n",
      "All the data is: b'testing123\\r\\n'\n",
      "I got a connection from ('127.0.0.1', 51614)!\n",
      "I got data: b'an'!\n",
      "I got data: b'ot'!\n",
      "I got data: b'he'!\n",
      "I got data: b'rt'!\n",
      "I got data: b'es'!\n",
      "I got data: b't1'!\n",
      "I got data: b'23'!\n",
      "I got data: b'\\r\\n'!\n",
      "All the data is: b'anothertest123\\r\\n'\n",
      "I got data: b'a'!\n",
      "I got data: b'n'!\n",
      "I got data: b'o'!\n",
      "I got data: b't'!\n",
      "I got data: b'h'!\n",
      "I got data: b'e'!\n",
      "I got data: b'r'!\n",
      "I got data: b't'!\n",
      "I got data: b'e'!\n",
      "I got data: b's'!\n",
      "I got data: b't'!\n",
      "I got data: b'1'!\n",
      "I got data: b'2'!\n",
      "I got data: b'3'!\n",
      "I got data: b'\\r\\n'!\n",
      "All the data is: b'anothertest123\\r\\n'\n"
     ]
    }
   ],
   "source": [
    "import socket\n",
    "server_socket = socket.socket(socket.AF_INET, socket.SOCK_STREAM)\n",
    "server_socket.setsockopt(socket.SOL_SOCKET, socket.SO_REUSEADDR, 1)\n",
    "server_address = ('127.0.0.1', 8000)\n",
    "server_socket.bind(server_address)\n",
    "server_socket.listen()\n",
    "connections = []\n",
    "\n",
    "# This is not also not working because sockets are blocking, they will wait till next operation blocking all others\n",
    "# We can do it bu this line below but then we need to catch connections because we will get exception BlockingIOerror \n",
    "\"server_socket.setblocking(False)\"\n",
    "\n",
    "try:\n",
    "    while True:\n",
    "        connection, client_address = server_socket.accept()\n",
    "        print(f'I got a connection from {client_address}!')\n",
    "        \"connection.setblocking(False)\"\n",
    "        connections.append(connection)\n",
    "        for connection in connections:\n",
    "            buffer = b''\n",
    "            while buffer[-2:] != b'\\r\\n':\n",
    "                data = connection.recv(2)\n",
    "                if not data:\n",
    "                    break\n",
    "                else:\n",
    "                    print(f'I got data: {data}!')\n",
    "                    buffer = buffer + data\n",
    "            \n",
    "            print(f\"All the data is: {buffer}\")\n",
    "            connection.send(buffer)\n",
    "finally:\n",
    "    server_socket.close()"
   ]
  },
  {
   "cell_type": "markdown",
   "metadata": {},
   "source": [
    "We can work with non-blocking sockets with selectors so it will not heavy for our CPU "
   ]
  },
  {
   "cell_type": "code",
   "execution_count": 3,
   "metadata": {},
   "outputs": [
    {
     "name": "stdout",
     "output_type": "stream",
     "text": [
      "No events, waiting for new event\n",
      "No events, waiting for new event\n",
      "No events, waiting for new event\n",
      "No events, waiting for new event\n",
      "No events, waiting for new event\n",
      "No events, waiting for new event\n",
      "No events, waiting for new event\n",
      "No events, waiting for new event\n",
      "No events, waiting for new event\n",
      "No events, waiting for new event\n"
     ]
    }
   ],
   "source": [
    "import selectors\n",
    "import socket\n",
    "from selectors import SelectorKey\n",
    "from typing import List, Tuple\n",
    "\n",
    "# Created selector that will detect sockets, incoming calls\n",
    "selector = selectors.DefaultSelector()\n",
    "\n",
    "server_socket = socket.socket(socket.AF_INET, socket.SOCK_STREAM)\n",
    "server_socket.setsockopt(socket.SOL_SOCKET, socket.SO_REUSEADDR, 1)\n",
    "server_address = ('127.0.0.1', 8000)\n",
    "server_socket.setblocking(False)\n",
    "server_socket.bind(server_address)\n",
    "server_socket.listen()\n",
    "\n",
    "# Registering our server socket\n",
    "selector.register(server_socket, selectors.EVENT_READ)\n",
    "\n",
    "wait = 0\n",
    "# We can see that this is kinda simillar how works event loop in asyncio\n",
    "while True:\n",
    "    events: List[Tuple[SelectorKey, int]] = selector.select(timeout=1)\n",
    "\n",
    "    if wait == 10:\n",
    "        break\n",
    "    if len(events) == 0:\n",
    "        wait += 1\n",
    "        print(\"No events, waiting for new event\")\n",
    "    \n",
    "    for event, _ in events:\n",
    "        wait = 0\n",
    "        event_socket = event.fileobj\n",
    "\n",
    "        if event_socket == server_socket:\n",
    "            connection, address = server_socket.accept()\n",
    "            connection.setblocking(False)\n",
    "            print(f\"I got connection from {address}\")\n",
    "            selector.register(connection, selectors.EVENT_READ)\n",
    "        else:\n",
    "            data = event_socket.recv(1024)\n",
    "            print(f\"All the data is: {data}\")\n",
    "            connection.send(data)\n"
   ]
  },
  {
   "cell_type": "markdown",
   "metadata": {},
   "source": [
    "Let`s make echo-server using asyncio without selectors"
   ]
  },
  {
   "cell_type": "code",
   "execution_count": 1,
   "metadata": {},
   "outputs": [
    {
     "name": "stdout",
     "output_type": "stream",
     "text": [
      "Got a connection from ('127.0.0.1', 54301)\n",
      "All the data is: b'testing123'\n",
      "All the data is: b'gg it works!'\n"
     ]
    }
   ],
   "source": [
    "import asyncio\n",
    "import socket\n",
    "\n",
    "async def echo(connection: socket, loop : asyncio.AbstractEventLoop) -> None:\n",
    "    buffer = b''\n",
    "\n",
    "    # This code can work concurrently, provide connections with several users and close them by 'quit'\n",
    "    while True:\n",
    "        while buffer[-2:] != b'\\r\\n':\n",
    "            data = await loop.sock_recv(connection, 1024)\n",
    "            if not data:\n",
    "                break\n",
    "            else:\n",
    "                buffer = buffer + data\n",
    "\n",
    "        if buffer[:-2] == b'quit':\n",
    "            # We can also raise exception but then we need to catch it by try/except\n",
    "            # But if one person get exception, other users connected to server also will lose connection, we kinda lose concurrency\n",
    "            break\n",
    "        \n",
    "        print(f\"All the data is: {buffer[:-2]}\")\n",
    "        await loop.sock_sendall(connection, buffer)\n",
    "        buffer = b''\n",
    "\n",
    "async def listen_for_connections(server_socket : socket, loop: asyncio.AbstractEventLoop) -> None:\n",
    "    while True:\n",
    "        connection, address = await loop.sock_accept(server_socket)\n",
    "        connection.setblocking(False)\n",
    "        print(f\"Got a connection from {address}\")\n",
    "        asyncio.create_task(echo(connection, loop))\n",
    "\n",
    "async def main():\n",
    "    server_socket = socket.socket(socket.AF_INET, socket.SOCK_STREAM)\n",
    "    server_socket.setsockopt(socket.SOL_SOCKET, socket.SO_REUSEADDR, 1)\n",
    "\n",
    "    server_address = ('127.0.0.1', 8000)\n",
    "    server_socket.setblocking(False)\n",
    "    server_socket.bind(server_address)\n",
    "    server_socket.listen()\n",
    "\n",
    "    await listen_for_connections(server_socket, asyncio.get_event_loop())\n",
    "\n",
    "\n",
    "await main()"
   ]
  }
 ],
 "metadata": {
  "kernelspec": {
   "display_name": "Python 3",
   "language": "python",
   "name": "python3"
  },
  "language_info": {
   "codemirror_mode": {
    "name": "ipython",
    "version": 3
   },
   "file_extension": ".py",
   "mimetype": "text/x-python",
   "name": "python",
   "nbconvert_exporter": "python",
   "pygments_lexer": "ipython3",
   "version": "3.11.1"
  }
 },
 "nbformat": 4,
 "nbformat_minor": 2
}
